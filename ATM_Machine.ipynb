{
  "nbformat": 4,
  "nbformat_minor": 0,
  "metadata": {
    "colab": {
      "provenance": [],
      "authorship_tag": "ABX9TyPBMndg24pL+Q5FHe20XGYU",
      "include_colab_link": true
    },
    "kernelspec": {
      "name": "python3",
      "display_name": "Python 3"
    },
    "language_info": {
      "name": "python"
    }
  },
  "cells": [
    {
      "cell_type": "markdown",
      "metadata": {
        "id": "view-in-github",
        "colab_type": "text"
      },
      "source": [
        "<a href=\"https://colab.research.google.com/github/Tayyaba-Ramzan/Python-ATM-OOP-Assignment/blob/main/ATM_Machine.ipynb\" target=\"_parent\"><img src=\"https://colab.research.google.com/assets/colab-badge.svg\" alt=\"Open In Colab\"/></a>"
      ]
    },
    {
      "cell_type": "markdown",
      "source": [
        "# ***Python OOP Assignment: ATM Machine***"
      ],
      "metadata": {
        "id": "khplyfb8fcda"
      }
    },
    {
      "cell_type": "markdown",
      "source": [
        "# 🏧 ATM Machine Simulation – Python OOP Assignment\n",
        "\n",
        "## 📌 Overview  \n",
        "In this assignment, you will create an **object-oriented ATM (Automated Teller Machine)** simulation in Python.  \n",
        "You'll implement a class with methods to handle basic banking operations.\n",
        "\n",
        "---\n",
        "\n",
        "### 🔨 Objectives:\n",
        "- Implement a class named `ATM`\n",
        "- Handle key functionalities like deposit, withdraw, and balance check\n",
        "- Enforce input validations for security and proper banking behavior\n"
      ],
      "metadata": {
        "id": "JZNdPQ2jgAdg"
      }
    },
    {
      "cell_type": "code",
      "source": [
        "class ATM:\n",
        "    def __init__(self):\n",
        "        self.balance = 5000\n",
        "        self.pin = 1234\n",
        "\n",
        "    def check_pin(self, input_pin):\n",
        "        return input_pin == self.pin\n",
        "\n",
        "    def check_balance(self):\n",
        "        print(f\"💰 Your current balance is: Rs. {self.balance}\")\n",
        "\n",
        "    def deposit(self, input_pin, amount):\n",
        "        if not self.check_pin(input_pin):\n",
        "            print(\"🔐 Incorrect PIN. Deposit failed.\")\n",
        "            return\n",
        "        if amount <= 0:\n",
        "            print(\"⚠️ Invalid deposit amount. Please enter a positive value.\")\n",
        "            return\n",
        "        self.balance += amount\n",
        "        print(f\"✅ Deposit successful! 💵 New balance is: Rs. {self.balance}\")\n",
        "\n",
        "    def withdraw(self, input_pin, amount):\n",
        "        if not self.check_pin(input_pin):\n",
        "            print(\"🔐 Incorrect PIN. Withdrawal failed.\")\n",
        "            return\n",
        "        if amount <= 0:\n",
        "            print(\"⚠️ Invalid withdrawal amount. Please enter a positive value.\")\n",
        "            return\n",
        "        if amount > self.balance:\n",
        "            print(\"❌ Insufficient balance. Withdrawal failed.\")\n",
        "            return\n",
        "        self.balance -= amount\n",
        "        print(f\"✅ Withdrawal successful! 💸 New balance is: Rs. {self.balance}\")\n",
        "\n",
        "    def exit(self):\n",
        "        print(\"👋 Thank you for using the ATM. Goodbye!\")\n",
        "        quit()\n",
        "\n",
        "\n",
        "# Sample Menu-Driven Interface\n",
        "def atm_interface():\n",
        "    atm = ATM()\n",
        "    while True:\n",
        "        print(\"\\n💳 ==== ATM Menu ==== 💳\")\n",
        "        print(\"1️⃣  Check Balance\")\n",
        "        print(\"2️⃣  Deposit\")\n",
        "        print(\"3️⃣  Withdraw\")\n",
        "        print(\"4️⃣  Exit\")\n",
        "        choice = input(\"📲 Enter your choice (1-4): \")\n",
        "\n",
        "        if choice == '1':\n",
        "            pin = int(input(\"🔑 Enter your PIN: \"))\n",
        "            if atm.check_pin(pin):\n",
        "                atm.check_balance()\n",
        "            else:\n",
        "                print(\"❌ Invalid PIN.\")\n",
        "\n",
        "        elif choice == '2':\n",
        "            pin = int(input(\"🔑 Enter your PIN: \"))\n",
        "            amount = int(input(\"💰 Enter amount to deposit: \"))\n",
        "            atm.deposit(pin, amount)\n",
        "\n",
        "        elif choice == '3':\n",
        "            pin = int(input(\"🔑 Enter your PIN: \"))\n",
        "            amount = int(input(\"💸 Enter amount to withdraw: \"))\n",
        "            atm.withdraw(pin, amount)\n",
        "\n",
        "        elif choice == '4':\n",
        "            atm.exit()\n",
        "\n",
        "        else:\n",
        "            print(\"🚫 Invalid choice. Please select from 1 to 4.\")\n",
        "\n",
        "# Run the ATM Interface\n",
        "atm_interface()"
      ],
      "metadata": {
        "colab": {
          "base_uri": "https://localhost:8080/"
        },
        "id": "8ivddAQ7gpnH",
        "outputId": "b916d73f-a9ed-406d-ddbe-c28a66b3420c"
      },
      "execution_count": null,
      "outputs": [
        {
          "output_type": "stream",
          "name": "stdout",
          "text": [
            "\n",
            "💳 ==== ATM Menu ==== 💳\n",
            "1️⃣  Check Balance\n",
            "2️⃣  Deposit\n",
            "3️⃣  Withdraw\n",
            "4️⃣  Exit\n",
            "📲 Enter your choice (1-4): 1\n",
            "🔑 Enter your PIN: 1234\n",
            "💰 Your current balance is: Rs. 5000\n",
            "\n",
            "💳 ==== ATM Menu ==== 💳\n",
            "1️⃣  Check Balance\n",
            "2️⃣  Deposit\n",
            "3️⃣  Withdraw\n",
            "4️⃣  Exit\n",
            "📲 Enter your choice (1-4): 2\n",
            "🔑 Enter your PIN: 1234\n",
            "💰 Enter amount to deposit: 10000\n",
            "✅ Deposit successful! 💵 New balance is: Rs. 15000\n",
            "\n",
            "💳 ==== ATM Menu ==== 💳\n",
            "1️⃣  Check Balance\n",
            "2️⃣  Deposit\n",
            "3️⃣  Withdraw\n",
            "4️⃣  Exit\n",
            "📲 Enter your choice (1-4): 3\n",
            "🔑 Enter your PIN: 1234\n",
            "💸 Enter amount to withdraw: 5000\n",
            "✅ Withdrawal successful! 💸 New balance is: Rs. 10000\n",
            "\n",
            "💳 ==== ATM Menu ==== 💳\n",
            "1️⃣  Check Balance\n",
            "2️⃣  Deposit\n",
            "3️⃣  Withdraw\n",
            "4️⃣  Exit\n",
            "📲 Enter your choice (1-4): 4\n",
            "👋 Thank you for using the ATM. Goodbye!\n",
            "\n",
            "💳 ==== ATM Menu ==== 💳\n",
            "1️⃣  Check Balance\n",
            "2️⃣  Deposit\n",
            "3️⃣  Withdraw\n",
            "4️⃣  Exit\n"
          ]
        }
      ]
    }
  ]
}